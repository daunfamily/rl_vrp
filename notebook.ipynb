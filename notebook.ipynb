{
 "cells": [
  {
   "cell_type": "code",
   "execution_count": 1,
   "metadata": {},
   "outputs": [],
   "source": [
    "import os\n",
    "import numpy as np\n",
    "import pandas as pd\n",
    "%matplotlib inline\n",
    "from matplotlib import pyplot as plt\n",
    "import torch\n",
    "import seaborn as sns\n",
    "import os.path\n",
    "from os import path"
   ]
  },
  {
   "cell_type": "code",
   "execution_count": 2,
   "metadata": {},
   "outputs": [
    {
     "data": {
      "text/plain": [
       "<torch._C.Generator at 0x24dd9fac1b0>"
      ]
     },
     "execution_count": 2,
     "metadata": {},
     "output_type": "execute_result"
    }
   ],
   "source": [
    "np.random.seed(42)\n",
    "torch.manual_seed(42)"
   ]
  },
  {
   "cell_type": "markdown",
   "metadata": {},
   "source": [
    "This notebook provides an implementation of CVRP solver by using the Operations Research Tools (OR-Tools) [1] and the Reinforcement Learning (RL) framework proposed by Kool et. al (2019). The code produced in this notebook complements the project report (report.pdf). \n",
    "\n",
    "The RL implementation is based on the code available in [2], which is the implementation in python provided by Kool et. al (2019), of the RL framework proposed in [3]."
   ]
  },
  {
   "cell_type": "markdown",
   "metadata": {},
   "source": [
    "The object bellow saves the problem capacity for each problem size. I've used the same values provided in [3]. This means that for all problems generated of size 10, each vehicle will have a capacity of 20, for all the problems generated with 20 nodes, each vehicle will have a capacity of 30, and so on."
   ]
  },
  {
   "cell_type": "code",
   "execution_count": 3,
   "metadata": {},
   "outputs": [],
   "source": [
    "CAPACITIES = {\n",
    "    10: 20.,\n",
    "    20: 30.,\n",
    "    50: 40.,\n",
    "    100: 50.\n",
    "}"
   ]
  },
  {
   "cell_type": "markdown",
   "metadata": {},
   "source": [
    "Lets declare some methods that will be used further in the notebook."
   ]
  },
  {
   "cell_type": "code",
   "execution_count": 4,
   "metadata": {},
   "outputs": [],
   "source": [
    "# Code inspired by Google OR Tools plot:\n",
    "# https://github.com/google/or-tools/blob/fb12c5ded7423d524fc6c95656a9bdc290a81d4d/examples/python/cvrptw_plot.py\n",
    "\n",
    "def discrete_cmap(N, base_cmap=None):\n",
    "    \"\"\"\n",
    "    Create an N-bin discrete colormap from the specified input map\n",
    "    \"\"\"\n",
    "    # Note that if base_cmap is a string or None, you can simply do\n",
    "    #    return plt.cm.get_cmap(base_cmap, N)\n",
    "    # The following works for string, None, or a colormap instance:\n",
    "\n",
    "    base = plt.cm.get_cmap(base_cmap)\n",
    "    color_list = base(np.linspace(0, 1, N))\n",
    "    cmap_name = base.name + str(N)\n",
    "    return base.from_list(cmap_name, color_list, N)\n",
    "\n",
    "def plot_solution(df_solution, nodes, depot):\n",
    "    cmap = discrete_cmap(len(df_solution) + 2, 'nipy_spectral')\n",
    "\n",
    "    fig, ax1 = plt.subplots(figsize = (10,10))\n",
    "    x_dep, y_dep = depot\n",
    "    ax1.plot(x_dep, y_dep, 'sk', markersize=20)\n",
    "    ax1.set_xlim(0, 1)\n",
    "    ax1.set_ylim(0, 1)\n",
    "    qvs = []\n",
    "    for i, v in enumerate(df_solution['vehicle_id'].unique()):\n",
    "        color = cmap(len(df_solution) - i) # Invert to have in rainbow order\n",
    "\n",
    "        a = df_solution[df_solution['vehicle_id'] == v]\n",
    "        route_coords = nodes[(a.route.values[0])]\n",
    "        xs = route_coords[:,1]\n",
    "        ys = route_coords[:,0]\n",
    "        plt.scatter(xs,ys, s = 30, color = color)\n",
    "        #plot the arrows\n",
    "        qv = plt.quiver(xs[:-1], ys[:-1], xs[1:] - xs[:-1],ys[1:] - ys[:-1], scale_units='xy', angles='xy', scale=1, color = color, \\\n",
    "                  label='R{}; c {}, d {}'.format(i, a['cum_demand'].values[0], round(a.distance.values[0],2)))\n",
    "\n",
    "        qvs.append(qv)\n",
    "    ax1.set_title('{} routes, total distance {:.2f}'.format(len(df_solution), df_solution.distance.sum()))\n",
    "    ax1.legend(handles=qvs)\n",
    "    \n",
    "metrics = ['mean','std','min','max']\n",
    "\n",
    "def extract_metrics(model_name,time,df_solution):\n",
    "    stats = df_solution.describe().iloc[1:4,:3].append(df_solution.describe().iloc[-1,:3])\n",
    "    cols, data = stats.columns, {}\n",
    "    data['model'] = model_name\n",
    "    data['time'] = time\n",
    "    data['distance'] = df_solution.distance.sum()\n",
    "    for m in metrics:\n",
    "        for c in cols: data['{}_{}'.format(c,m)] = round(stats.loc[m, c],3)\n",
    "    return data"
   ]
  },
  {
   "cell_type": "markdown",
   "metadata": {},
   "source": [
    "# Generate random CVRP problem instance"
   ]
  },
  {
   "cell_type": "markdown",
   "metadata": {},
   "source": [
    "The method bellow generates random CVRP problem instances **$s$**, with node coordinates being randomly generated between a random value in [0,1]. The demands $d_i$ are generated in a uniform distribution between [0,9] for each $n_i$ and are normalized according to the vehicle size capacity associated."
   ]
  },
  {
   "cell_type": "code",
   "execution_count": 5,
   "metadata": {},
   "outputs": [],
   "source": [
    "def generate_data(size, num_samples, vehicle_capacity = None):\n",
    "    #if problem_demand is None: problem_demand = CAPACITIES[size]\n",
    "    return [{\n",
    "                'loc': torch.FloatTensor(size, 2).uniform_(0, 1),\n",
    "                # Uniform 1 - 9, scaled by capacities\n",
    "                #'demand': (torch.FloatTensor(size).uniform_(0, 1).int() + 1).float() / CAPACITIES[size],\n",
    "                'demand': (torch.FloatTensor(size).uniform_(0, 9).int() + 1).float() / vehicle_capacity,\n",
    "                #'demand': (torch.FloatTensor(size).uniform_(CAPACITIES[size]/size, CAPACITIES[size]/size)).float()/ CAPACITIES[size],\n",
    "                'depot': torch.FloatTensor(2).uniform_(0, 1)\n",
    "            } for i in range(num_samples)]    "
   ]
  },
  {
   "cell_type": "markdown",
   "metadata": {},
   "source": [
    "Lets generate one random problem instance, with 100 nodes."
   ]
  },
  {
   "cell_type": "code",
   "execution_count": 6,
   "metadata": {},
   "outputs": [],
   "source": [
    "num_samples = 1\n",
    "size = 100\n",
    "random_data = generate_data(size, num_samples, CAPACITIES[size])"
   ]
  },
  {
   "cell_type": "markdown",
   "metadata": {},
   "source": [
    "Plot the generated random problem"
   ]
  },
  {
   "cell_type": "code",
   "execution_count": 7,
   "metadata": {},
   "outputs": [
    {
     "data": {
      "text/plain": [
       "<matplotlib.collections.PathCollection at 0x24dde40c4c8>"
      ]
     },
     "execution_count": 7,
     "metadata": {},
     "output_type": "execute_result"
    },
    {
     "data": {
      "image/png": "[encoded data removed]",
      "text/plain": [
       "<Figure size 720x720 with 1 Axes>"
      ]
     },
     "metadata": {
      "needs_background": "light"
     },
     "output_type": "display_data"
    }
   ],
   "source": [
    "a = np.array(random_data[0]['loc'])\n",
    "plt.figure(figsize=(10,10))\n",
    "plt.scatter(a[:,0],a[:,1],c='r')\n",
    "plt.scatter(random_data[0]['depot'][0],random_data[0]['depot'][1],c='b',s=100)"
   ]
  },
  {
   "cell_type": "markdown",
   "metadata": {},
   "source": [
    "Red dots are the nodes $n$, and the blue dot corresponds to the depot."
   ]
  },
  {
   "cell_type": "markdown",
   "metadata": {},
   "source": [
    "## Solving problem using RL"
   ]
  },
  {
   "cell_type": "markdown",
   "metadata": {},
   "source": [
    "In order to run the code implement by Bello et. al (2018), I implemented a python class file _'rf1.py'_ that contains all the code needed in order to query the RL model and extract the results."
   ]
  },
  {
   "cell_type": "code",
   "execution_count": 8,
   "metadata": {},
   "outputs": [],
   "source": [
    "from rf1_utils import rf1"
   ]
  },
  {
   "cell_type": "markdown",
   "metadata": {},
   "source": [
    "Now lets init the rf1 class, by passing to it the problem size (100 in this case), the random problem instance generated above, and the vehicle capacity defined for problem with size 100 (50)."
   ]
  },
  {
   "cell_type": "code",
   "execution_count": 9,
   "metadata": {},
   "outputs": [
    {
     "data": {
      "text/html": [
       "<div>\n",
       "<style scoped>\n",
       "    .dataframe tbody tr th:only-of-type {\n",
       "        vertical-align: middle;\n",
       "    }\n",
       "\n",
       "    .dataframe tbody tr th {\n",
       "        vertical-align: top;\n",
       "    }\n",
       "\n",
       "    .dataframe thead th {\n",
       "        text-align: right;\n",
       "    }\n",
       "</style>\n",
       "<table border=\"1\" class=\"dataframe\">\n",
       "  <thead>\n",
       "    <tr style=\"text-align: right;\">\n",
       "      <th></th>\n",
       "      <th>cum_demand</th>\n",
       "      <th>demands</th>\n",
       "      <th>distance</th>\n",
       "      <th>num_nodes</th>\n",
       "      <th>route</th>\n",
       "      <th>vehicle_id</th>\n",
       "    </tr>\n",
       "  </thead>\n",
       "  <tbody>\n",
       "    <tr>\n",
       "      <th>0</th>\n",
       "      <td>50.0</td>\n",
       "      <td>[1.0, 4.0, 2.0, 7.0, 4.0, 8.0, 7.0, 3.0, 4.0, ...</td>\n",
       "      <td>1.053416</td>\n",
       "      <td>11.0</td>\n",
       "      <td>[31, 53, 82, 59, 15, 57, 71, 85, 76, 32, 46]</td>\n",
       "      <td>0.0</td>\n",
       "    </tr>\n",
       "    <tr>\n",
       "      <th>1</th>\n",
       "      <td>47.0</td>\n",
       "      <td>[2.0, 2.0, 1.0, 8.0, 3.0, 7.0, 7.0, 7.0, 2.0, ...</td>\n",
       "      <td>1.129440</td>\n",
       "      <td>10.0</td>\n",
       "      <td>[62, 52, 77, 50, 64, 41, 35, 60, 14, 61]</td>\n",
       "      <td>1.0</td>\n",
       "    </tr>\n",
       "    <tr>\n",
       "      <th>2</th>\n",
       "      <td>50.0</td>\n",
       "      <td>[1.0, 1.0, 2.0, 1.0, 1.0, 4.0, 9.0, 5.0, 9.0, ...</td>\n",
       "      <td>1.327882</td>\n",
       "      <td>13.0</td>\n",
       "      <td>[80, 25, 44, 72, 30, 90, 16, 37, 75, 78, 5, 23...</td>\n",
       "      <td>2.0</td>\n",
       "    </tr>\n",
       "    <tr>\n",
       "      <th>3</th>\n",
       "      <td>46.0</td>\n",
       "      <td>[3.0, 3.0, 2.0, 1.0, 9.0, 4.0, 7.0, 4.0, 5.0, ...</td>\n",
       "      <td>1.165064</td>\n",
       "      <td>11.0</td>\n",
       "      <td>[20, 92, 21, 87, 34, 49, 65, 43, 83, 33, 70]</td>\n",
       "      <td>3.0</td>\n",
       "    </tr>\n",
       "    <tr>\n",
       "      <th>4</th>\n",
       "      <td>46.0</td>\n",
       "      <td>[5.0, 8.0, 6.0, 4.0, 2.0, 4.0, 3.0, 1.0, 8.0, ...</td>\n",
       "      <td>1.626623</td>\n",
       "      <td>11.0</td>\n",
       "      <td>[68, 63, 48, 69, 38, 55, 54, 13, 26, 58, 96]</td>\n",
       "      <td>4.0</td>\n",
       "    </tr>\n",
       "  </tbody>\n",
       "</table>\n",
       "</div>"
      ],
      "text/plain": [
       "   cum_demand                                            demands  distance  \\\n",
       "0        50.0  [1.0, 4.0, 2.0, 7.0, 4.0, 8.0, 7.0, 3.0, 4.0, ...  1.053416   \n",
       "1        47.0  [2.0, 2.0, 1.0, 8.0, 3.0, 7.0, 7.0, 7.0, 2.0, ...  1.129440   \n",
       "2        50.0  [1.0, 1.0, 2.0, 1.0, 1.0, 4.0, 9.0, 5.0, 9.0, ...  1.327882   \n",
       "3        46.0  [3.0, 3.0, 2.0, 1.0, 9.0, 4.0, 7.0, 4.0, 5.0, ...  1.165064   \n",
       "4        46.0  [5.0, 8.0, 6.0, 4.0, 2.0, 4.0, 3.0, 1.0, 8.0, ...  1.626623   \n",
       "\n",
       "   num_nodes                                              route  vehicle_id  \n",
       "0       11.0       [31, 53, 82, 59, 15, 57, 71, 85, 76, 32, 46]         0.0  \n",
       "1       10.0           [62, 52, 77, 50, 64, 41, 35, 60, 14, 61]         1.0  \n",
       "2       13.0  [80, 25, 44, 72, 30, 90, 16, 37, 75, 78, 5, 23...         2.0  \n",
       "3       11.0       [20, 92, 21, 87, 34, 49, 65, 43, 83, 33, 70]         3.0  \n",
       "4       11.0       [68, 63, 48, 69, 38, 55, 54, 13, 26, 58, 96]         4.0  "
      ]
     },
     "execution_count": 9,
     "metadata": {},
     "output_type": "execute_result"
    }
   ],
   "source": [
    "#init RL solver\n",
    "model1 = rf1(size, random_data, CAPACITIES[size])\n",
    "#query RL model and extract the results\n",
    "df_rf1_solution, time  = model1.run()\n",
    "#\n",
    "df_rf1_solution.head()"
   ]
  },
  {
   "cell_type": "markdown",
   "metadata": {},
   "source": [
    "Now lets plot the solution"
   ]
  },
  {
   "cell_type": "code",
   "execution_count": 10,
   "metadata": {},
   "outputs": [
    {
     "data": {
      "image/png": "[encoded data removed]",
      "text/plain": [
       "<Figure size 720x720 with 1 Axes>"
      ]
     },
     "metadata": {
      "needs_background": "light"
     },
     "output_type": "display_data"
    }
   ],
   "source": [
    "plot_solution(df_rf1_solution, np.insert(np.array(random_data[0]['loc']),0, np.array(random_data[0]['depot']),0),random_data[0]['depot'])"
   ]
  },
  {
   "cell_type": "markdown",
   "metadata": {},
   "source": [
    "The method bellow extract statistic metrics about the solution provided by the algorithm."
   ]
  },
  {
   "cell_type": "code",
   "execution_count": 11,
   "metadata": {},
   "outputs": [
    {
     "data": {
      "text/plain": [
       "{'model': 'RL',\n",
       " 'time': 0.402994,\n",
       " 'distance': 12.475374400615692,\n",
       " 'cum_demand_mean': 44.8,\n",
       " 'distance_mean': 1.248,\n",
       " 'num_nodes_mean': 10.0,\n",
       " 'cum_demand_std': 9.942,\n",
       " 'distance_std': 0.362,\n",
       " 'num_nodes_std': 3.162,\n",
       " 'cum_demand_min': 17.0,\n",
       " 'distance_min': 0.5,\n",
       " 'num_nodes_min': 2.0,\n",
       " 'cum_demand_max': 50.0,\n",
       " 'distance_max': 1.78,\n",
       " 'num_nodes_max': 13.0}"
      ]
     },
     "execution_count": 11,
     "metadata": {},
     "output_type": "execute_result"
    }
   ],
   "source": [
    "extract_metrics('RL',time, df_rf1_solution)"
   ]
  },
  {
   "cell_type": "markdown",
   "metadata": {},
   "source": [
    "## Solving problem using OR-Tools ##"
   ]
  },
  {
   "cell_type": "markdown",
   "metadata": {},
   "source": [
    "Now lets use the OR-Tools to solve the same problem instance $s$. As done with OR-Tools, I've implemented one class in file _'or_tools_utils.py'_ with all the code needed."
   ]
  },
  {
   "cell_type": "code",
   "execution_count": 12,
   "metadata": {},
   "outputs": [],
   "source": [
    "from or_tools_utils import *"
   ]
  },
  {
   "cell_type": "markdown",
   "metadata": {},
   "source": [
    "Preprocess the data in order to fed the cvrp solver"
   ]
  },
  {
   "cell_type": "code",
   "execution_count": 13,
   "metadata": {},
   "outputs": [],
   "source": [
    "depot, nodes, demands,vehicle_capacities, num_vehicles = preprocess_ortools(int(CAPACITIES[size]),random_data[0])"
   ]
  },
  {
   "cell_type": "markdown",
   "metadata": {},
   "source": [
    "Solve CVRP using OR-Tools and extract the results"
   ]
  },
  {
   "cell_type": "code",
   "execution_count": 14,
   "metadata": {},
   "outputs": [
    {
     "data": {
      "text/html": [
       "<div>\n",
       "<style scoped>\n",
       "    .dataframe tbody tr th:only-of-type {\n",
       "        vertical-align: middle;\n",
       "    }\n",
       "\n",
       "    .dataframe tbody tr th {\n",
       "        vertical-align: top;\n",
       "    }\n",
       "\n",
       "    .dataframe thead th {\n",
       "        text-align: right;\n",
       "    }\n",
       "</style>\n",
       "<table border=\"1\" class=\"dataframe\">\n",
       "  <thead>\n",
       "    <tr style=\"text-align: right;\">\n",
       "      <th></th>\n",
       "      <th>cum_demand</th>\n",
       "      <th>demands</th>\n",
       "      <th>distance</th>\n",
       "      <th>num_nodes</th>\n",
       "      <th>route</th>\n",
       "      <th>vehicle_id</th>\n",
       "    </tr>\n",
       "  </thead>\n",
       "  <tbody>\n",
       "    <tr>\n",
       "      <th>10</th>\n",
       "      <td>50.0</td>\n",
       "      <td>[3, 4, 1, 1, 1, 1, 9, 4, 7, 4, 1, 1, 5, 1, 7]</td>\n",
       "      <td>1.196883</td>\n",
       "      <td>16.0</td>\n",
       "      <td>[92, 76, 80, 25, 72, 30, 34, 49, 65, 43, 87, 8...</td>\n",
       "      <td>10.0</td>\n",
       "    </tr>\n",
       "    <tr>\n",
       "      <th>11</th>\n",
       "      <td>50.0</td>\n",
       "      <td>[1, 3, 3, 5, 6, 9, 5, 9, 4, 2, 3]</td>\n",
       "      <td>1.228733</td>\n",
       "      <td>12.0</td>\n",
       "      <td>[70, 42, 23, 5, 78, 75, 37, 16, 90, 44, 20]</td>\n",
       "      <td>11.0</td>\n",
       "    </tr>\n",
       "    <tr>\n",
       "      <th>12</th>\n",
       "      <td>47.0</td>\n",
       "      <td>[2, 4, 2, 4, 6, 2, 4, 1, 6, 9, 7]</td>\n",
       "      <td>1.220791</td>\n",
       "      <td>12.0</td>\n",
       "      <td>[29, 24, 7, 9, 17, 6, 81, 56, 36, 66, 79]</td>\n",
       "      <td>12.0</td>\n",
       "    </tr>\n",
       "    <tr>\n",
       "      <th>13</th>\n",
       "      <td>50.0</td>\n",
       "      <td>[8, 4, 4, 1, 4, 8, 3, 7, 7, 4]</td>\n",
       "      <td>1.626793</td>\n",
       "      <td>11.0</td>\n",
       "      <td>[11, 86, 51, 39, 67, 27, 84, 4, 12, 18]</td>\n",
       "      <td>13.0</td>\n",
       "    </tr>\n",
       "    <tr>\n",
       "      <th>14</th>\n",
       "      <td>49.0</td>\n",
       "      <td>[2, 1, 2, 3, 8, 4, 2, 4, 3, 8, 1, 2, 9]</td>\n",
       "      <td>1.663168</td>\n",
       "      <td>14.0</td>\n",
       "      <td>[62, 77, 52, 64, 50, 69, 38, 55, 54, 26, 13, 5...</td>\n",
       "      <td>14.0</td>\n",
       "    </tr>\n",
       "  </tbody>\n",
       "</table>\n",
       "</div>"
      ],
      "text/plain": [
       "    cum_demand                                        demands  distance  \\\n",
       "10        50.0  [3, 4, 1, 1, 1, 1, 9, 4, 7, 4, 1, 1, 5, 1, 7]  1.196883   \n",
       "11        50.0              [1, 3, 3, 5, 6, 9, 5, 9, 4, 2, 3]  1.228733   \n",
       "12        47.0              [2, 4, 2, 4, 6, 2, 4, 1, 6, 9, 7]  1.220791   \n",
       "13        50.0                 [8, 4, 4, 1, 4, 8, 3, 7, 7, 4]  1.626793   \n",
       "14        49.0        [2, 1, 2, 3, 8, 4, 2, 4, 3, 8, 1, 2, 9]  1.663168   \n",
       "\n",
       "    num_nodes                                              route  vehicle_id  \n",
       "10       16.0  [92, 76, 80, 25, 72, 30, 34, 49, 65, 43, 87, 8...        10.0  \n",
       "11       12.0        [70, 42, 23, 5, 78, 75, 37, 16, 90, 44, 20]        11.0  \n",
       "12       12.0          [29, 24, 7, 9, 17, 6, 81, 56, 36, 66, 79]        12.0  \n",
       "13       11.0            [11, 86, 51, 39, 67, 27, 84, 4, 12, 18]        13.0  \n",
       "14       14.0  [62, 77, 52, 64, 50, 69, 38, 55, 54, 26, 13, 5...        14.0  "
      ]
     },
     "execution_count": 14,
     "metadata": {},
     "output_type": "execute_result"
    }
   ],
   "source": [
    "or_cvrp_solver = cvrp_ortools_solver(nodes,num_vehicles,demands,vehicle_capacities)\n",
    "df_or_solution, timeor = or_cvrp_solver.run()\n",
    "df_or_solution.head()"
   ]
  },
  {
   "cell_type": "markdown",
   "metadata": {},
   "source": [
    "Plot the solution"
   ]
  },
  {
   "cell_type": "code",
   "execution_count": 15,
   "metadata": {},
   "outputs": [
    {
     "data": {
      "image/png": "[encoded data removed]",
      "text/plain": [
       "<Figure size 720x720 with 1 Axes>"
      ]
     },
     "metadata": {
      "needs_background": "light"
     },
     "output_type": "display_data"
    }
   ],
   "source": [
    "plot_solution(df_or_solution, nodes, depot)"
   ]
  },
  {
   "cell_type": "code",
   "execution_count": 16,
   "metadata": {},
   "outputs": [
    {
     "data": {
      "text/plain": [
       "{'model': 'OR-Tools',\n",
       " 'time': 2.455249,\n",
       " 'distance': 11.9845261,\n",
       " 'cum_demand_mean': 44.8,\n",
       " 'distance_mean': 1.198,\n",
       " 'num_nodes_mean': 11.0,\n",
       " 'cum_demand_std': 12.977,\n",
       " 'distance_std': 0.475,\n",
       " 'num_nodes_std': 3.83,\n",
       " 'cum_demand_min': 8.0,\n",
       " 'distance_min': 0.163,\n",
       " 'num_nodes_min': 2.0,\n",
       " 'cum_demand_max': 50.0,\n",
       " 'distance_max': 1.865,\n",
       " 'num_nodes_max': 16.0}"
      ]
     },
     "execution_count": 16,
     "metadata": {},
     "output_type": "execute_result"
    }
   ],
   "source": [
    "extract_metrics('OR-Tools',timeor,df_or_solution)"
   ]
  },
  {
   "cell_type": "markdown",
   "metadata": {},
   "source": [
    "We can see that for the random problem instance generated, the RL approach gets a better result than the OR-Tools, since the first got a total length of 17.07 and the second 17.67."
   ]
  },
  {
   "cell_type": "markdown",
   "metadata": {},
   "source": [
    "# Generate 100 random problems and compare the 2 approaches"
   ]
  },
  {
   "cell_type": "code",
   "execution_count": 17,
   "metadata": {},
   "outputs": [],
   "source": [
    "num_samples = 100\n",
    "size = [100,50,20,10]"
   ]
  },
  {
   "cell_type": "markdown",
   "metadata": {},
   "source": [
    "In this section, I will generate 100 random problem instances for each problem size: 10, 20, 50 and 100. For each problem instanced generated, will be applied both the RL framework and the OR-Tools. The results are stored in _results_ object."
   ]
  },
  {
   "cell_type": "code",
   "execution_count": 18,
   "metadata": {},
   "outputs": [
    {
     "name": "stdout",
     "output_type": "stream",
     "text": [
      "Wall time: 25 ms\n"
     ]
    }
   ],
   "source": [
    "%%time\n",
    "results = []\n",
    "if not path.exists('results/results.csv'):\n",
    "    for _, s in enumerate(size):\n",
    "        print('size: {}'.format(s))\n",
    "        random_data2 = generate_data(s, num_samples)\n",
    "        results_i = []\n",
    "        for i, d in enumerate(random_data2):  \n",
    "            #RL\n",
    "            data_rl = []\n",
    "            data_rl.append(d)\n",
    "            model1 = rf1(s, data_rl, CAPACITIES[s])\n",
    "            df_rf1_solution, time  = model1.run()\n",
    "            m_rl = extract_metrics('RL',time,df_rf1_solution)\n",
    "            m_rl['data_id'] = i\n",
    "            m_rl['size'] = s\n",
    "            results_i.append(m_rl)\n",
    "\n",
    "            #OR-Tools\n",
    "            depot, nodes, demands,vehicle_capacities, num_vehicles = preprocess_ortools(int(CAPACITIES[s]),d)\n",
    "            or_cvrp_solver = cvrp_ortools_solver(nodes,num_vehicles,demands,vehicle_capacities)\n",
    "            df_or_solution, timeor = or_cvrp_solver.run()\n",
    "            m_or = extract_metrics('OR-Tools',timeor,df_or_solution)\n",
    "            m_or['data_id'] = i\n",
    "            m_or['size'] = s\n",
    "            results_i.append(m_or)\n",
    "\n",
    "        results.append(pd.DataFrame(results_i))\n",
    "    #merge dfs\n",
    "    results = pd.concat(results)\n",
    "    #export result\n",
    "    results.to_csv('results/results.csv',sep=';')\n",
    "else: results = pd.read_csv('results/results.csv',sep=';')"
   ]
  },
  {
   "cell_type": "code",
   "execution_count": 19,
   "metadata": {},
   "outputs": [
    {
     "data": {
      "text/html": [
       "<div>\n",
       "<style scoped>\n",
       "    .dataframe tbody tr th:only-of-type {\n",
       "        vertical-align: middle;\n",
       "    }\n",
       "\n",
       "    .dataframe tbody tr th {\n",
       "        vertical-align: top;\n",
       "    }\n",
       "\n",
       "    .dataframe thead th {\n",
       "        text-align: right;\n",
       "    }\n",
       "</style>\n",
       "<table border=\"1\" class=\"dataframe\">\n",
       "  <thead>\n",
       "    <tr style=\"text-align: right;\">\n",
       "      <th></th>\n",
       "      <th>Unnamed: 0</th>\n",
       "      <th>model</th>\n",
       "      <th>time</th>\n",
       "      <th>distance</th>\n",
       "      <th>cum_demand_mean</th>\n",
       "      <th>distance_mean</th>\n",
       "      <th>num_nodes_mean</th>\n",
       "      <th>cum_demand_std</th>\n",
       "      <th>distance_std</th>\n",
       "      <th>num_nodes_std</th>\n",
       "      <th>cum_demand_min</th>\n",
       "      <th>distance_min</th>\n",
       "      <th>num_nodes_min</th>\n",
       "      <th>cum_demand_max</th>\n",
       "      <th>distance_max</th>\n",
       "      <th>num_nodes_max</th>\n",
       "      <th>data_id</th>\n",
       "      <th>size</th>\n",
       "    </tr>\n",
       "  </thead>\n",
       "  <tbody>\n",
       "    <tr>\n",
       "      <th>0</th>\n",
       "      <td>0</td>\n",
       "      <td>RL</td>\n",
       "      <td>0.160965</td>\n",
       "      <td>14.529257</td>\n",
       "      <td>45.545</td>\n",
       "      <td>1.321</td>\n",
       "      <td>9.091</td>\n",
       "      <td>5.803</td>\n",
       "      <td>0.326</td>\n",
       "      <td>1.640</td>\n",
       "      <td>29.0</td>\n",
       "      <td>0.750</td>\n",
       "      <td>5.0</td>\n",
       "      <td>50.0</td>\n",
       "      <td>1.898</td>\n",
       "      <td>11.0</td>\n",
       "      <td>0</td>\n",
       "      <td>100</td>\n",
       "    </tr>\n",
       "    <tr>\n",
       "      <th>1</th>\n",
       "      <td>1</td>\n",
       "      <td>OR-Tools</td>\n",
       "      <td>0.648113</td>\n",
       "      <td>15.762056</td>\n",
       "      <td>45.545</td>\n",
       "      <td>1.433</td>\n",
       "      <td>10.091</td>\n",
       "      <td>5.888</td>\n",
       "      <td>0.519</td>\n",
       "      <td>1.814</td>\n",
       "      <td>30.0</td>\n",
       "      <td>0.631</td>\n",
       "      <td>7.0</td>\n",
       "      <td>50.0</td>\n",
       "      <td>2.466</td>\n",
       "      <td>13.0</td>\n",
       "      <td>0</td>\n",
       "      <td>100</td>\n",
       "    </tr>\n",
       "    <tr>\n",
       "      <th>2</th>\n",
       "      <td>2</td>\n",
       "      <td>RL</td>\n",
       "      <td>0.180480</td>\n",
       "      <td>15.830186</td>\n",
       "      <td>45.182</td>\n",
       "      <td>1.439</td>\n",
       "      <td>9.091</td>\n",
       "      <td>10.088</td>\n",
       "      <td>0.476</td>\n",
       "      <td>3.300</td>\n",
       "      <td>16.0</td>\n",
       "      <td>0.303</td>\n",
       "      <td>2.0</td>\n",
       "      <td>50.0</td>\n",
       "      <td>2.085</td>\n",
       "      <td>14.0</td>\n",
       "      <td>1</td>\n",
       "      <td>100</td>\n",
       "    </tr>\n",
       "    <tr>\n",
       "      <th>3</th>\n",
       "      <td>3</td>\n",
       "      <td>OR-Tools</td>\n",
       "      <td>0.442898</td>\n",
       "      <td>16.988679</td>\n",
       "      <td>49.700</td>\n",
       "      <td>1.699</td>\n",
       "      <td>11.000</td>\n",
       "      <td>0.675</td>\n",
       "      <td>0.447</td>\n",
       "      <td>1.563</td>\n",
       "      <td>48.0</td>\n",
       "      <td>1.186</td>\n",
       "      <td>9.0</td>\n",
       "      <td>50.0</td>\n",
       "      <td>2.473</td>\n",
       "      <td>14.0</td>\n",
       "      <td>1</td>\n",
       "      <td>100</td>\n",
       "    </tr>\n",
       "    <tr>\n",
       "      <th>4</th>\n",
       "      <td>4</td>\n",
       "      <td>RL</td>\n",
       "      <td>0.187001</td>\n",
       "      <td>13.476508</td>\n",
       "      <td>44.909</td>\n",
       "      <td>1.225</td>\n",
       "      <td>9.091</td>\n",
       "      <td>6.818</td>\n",
       "      <td>0.330</td>\n",
       "      <td>2.119</td>\n",
       "      <td>27.0</td>\n",
       "      <td>0.732</td>\n",
       "      <td>5.0</td>\n",
       "      <td>50.0</td>\n",
       "      <td>1.955</td>\n",
       "      <td>12.0</td>\n",
       "      <td>2</td>\n",
       "      <td>100</td>\n",
       "    </tr>\n",
       "    <tr>\n",
       "      <th>...</th>\n",
       "      <td>...</td>\n",
       "      <td>...</td>\n",
       "      <td>...</td>\n",
       "      <td>...</td>\n",
       "      <td>...</td>\n",
       "      <td>...</td>\n",
       "      <td>...</td>\n",
       "      <td>...</td>\n",
       "      <td>...</td>\n",
       "      <td>...</td>\n",
       "      <td>...</td>\n",
       "      <td>...</td>\n",
       "      <td>...</td>\n",
       "      <td>...</td>\n",
       "      <td>...</td>\n",
       "      <td>...</td>\n",
       "      <td>...</td>\n",
       "      <td>...</td>\n",
       "    </tr>\n",
       "    <tr>\n",
       "      <th>795</th>\n",
       "      <td>195</td>\n",
       "      <td>OR-Tools</td>\n",
       "      <td>0.013999</td>\n",
       "      <td>4.355398</td>\n",
       "      <td>15.000</td>\n",
       "      <td>1.452</td>\n",
       "      <td>4.333</td>\n",
       "      <td>3.464</td>\n",
       "      <td>0.200</td>\n",
       "      <td>0.577</td>\n",
       "      <td>11.0</td>\n",
       "      <td>1.221</td>\n",
       "      <td>4.0</td>\n",
       "      <td>17.0</td>\n",
       "      <td>1.568</td>\n",
       "      <td>5.0</td>\n",
       "      <td>97</td>\n",
       "      <td>10</td>\n",
       "    </tr>\n",
       "    <tr>\n",
       "      <th>796</th>\n",
       "      <td>196</td>\n",
       "      <td>RL</td>\n",
       "      <td>0.023999</td>\n",
       "      <td>4.632109</td>\n",
       "      <td>16.000</td>\n",
       "      <td>1.544</td>\n",
       "      <td>3.333</td>\n",
       "      <td>1.000</td>\n",
       "      <td>0.674</td>\n",
       "      <td>1.528</td>\n",
       "      <td>15.0</td>\n",
       "      <td>0.766</td>\n",
       "      <td>2.0</td>\n",
       "      <td>17.0</td>\n",
       "      <td>1.937</td>\n",
       "      <td>5.0</td>\n",
       "      <td>98</td>\n",
       "      <td>10</td>\n",
       "    </tr>\n",
       "    <tr>\n",
       "      <th>797</th>\n",
       "      <td>197</td>\n",
       "      <td>OR-Tools</td>\n",
       "      <td>0.015002</td>\n",
       "      <td>4.632109</td>\n",
       "      <td>16.000</td>\n",
       "      <td>1.544</td>\n",
       "      <td>4.333</td>\n",
       "      <td>1.000</td>\n",
       "      <td>0.674</td>\n",
       "      <td>1.528</td>\n",
       "      <td>15.0</td>\n",
       "      <td>0.766</td>\n",
       "      <td>3.0</td>\n",
       "      <td>17.0</td>\n",
       "      <td>1.937</td>\n",
       "      <td>6.0</td>\n",
       "      <td>98</td>\n",
       "      <td>10</td>\n",
       "    </tr>\n",
       "    <tr>\n",
       "      <th>798</th>\n",
       "      <td>198</td>\n",
       "      <td>RL</td>\n",
       "      <td>0.022001</td>\n",
       "      <td>5.015895</td>\n",
       "      <td>14.500</td>\n",
       "      <td>1.254</td>\n",
       "      <td>2.500</td>\n",
       "      <td>4.041</td>\n",
       "      <td>0.765</td>\n",
       "      <td>1.291</td>\n",
       "      <td>9.0</td>\n",
       "      <td>0.647</td>\n",
       "      <td>1.0</td>\n",
       "      <td>18.0</td>\n",
       "      <td>2.282</td>\n",
       "      <td>4.0</td>\n",
       "      <td>99</td>\n",
       "      <td>10</td>\n",
       "    </tr>\n",
       "    <tr>\n",
       "      <th>799</th>\n",
       "      <td>199</td>\n",
       "      <td>OR-Tools</td>\n",
       "      <td>0.020001</td>\n",
       "      <td>4.829904</td>\n",
       "      <td>19.333</td>\n",
       "      <td>1.610</td>\n",
       "      <td>4.333</td>\n",
       "      <td>0.577</td>\n",
       "      <td>0.500</td>\n",
       "      <td>0.577</td>\n",
       "      <td>19.0</td>\n",
       "      <td>1.034</td>\n",
       "      <td>4.0</td>\n",
       "      <td>20.0</td>\n",
       "      <td>1.939</td>\n",
       "      <td>5.0</td>\n",
       "      <td>99</td>\n",
       "      <td>10</td>\n",
       "    </tr>\n",
       "  </tbody>\n",
       "</table>\n",
       "<p>800 rows × 18 columns</p>\n",
       "</div>"
      ],
      "text/plain": [
       "     Unnamed: 0     model      time   distance  cum_demand_mean  \\\n",
       "0             0        RL  0.160965  14.529257           45.545   \n",
       "1             1  OR-Tools  0.648113  15.762056           45.545   \n",
       "2             2        RL  0.180480  15.830186           45.182   \n",
       "3             3  OR-Tools  0.442898  16.988679           49.700   \n",
       "4             4        RL  0.187001  13.476508           44.909   \n",
       "..          ...       ...       ...        ...              ...   \n",
       "795         195  OR-Tools  0.013999   4.355398           15.000   \n",
       "796         196        RL  0.023999   4.632109           16.000   \n",
       "797         197  OR-Tools  0.015002   4.632109           16.000   \n",
       "798         198        RL  0.022001   5.015895           14.500   \n",
       "799         199  OR-Tools  0.020001   4.829904           19.333   \n",
       "\n",
       "     distance_mean  num_nodes_mean  cum_demand_std  distance_std  \\\n",
       "0            1.321           9.091           5.803         0.326   \n",
       "1            1.433          10.091           5.888         0.519   \n",
       "2            1.439           9.091          10.088         0.476   \n",
       "3            1.699          11.000           0.675         0.447   \n",
       "4            1.225           9.091           6.818         0.330   \n",
       "..             ...             ...             ...           ...   \n",
       "795          1.452           4.333           3.464         0.200   \n",
       "796          1.544           3.333           1.000         0.674   \n",
       "797          1.544           4.333           1.000         0.674   \n",
       "798          1.254           2.500           4.041         0.765   \n",
       "799          1.610           4.333           0.577         0.500   \n",
       "\n",
       "     num_nodes_std  cum_demand_min  distance_min  num_nodes_min  \\\n",
       "0            1.640            29.0         0.750            5.0   \n",
       "1            1.814            30.0         0.631            7.0   \n",
       "2            3.300            16.0         0.303            2.0   \n",
       "3            1.563            48.0         1.186            9.0   \n",
       "4            2.119            27.0         0.732            5.0   \n",
       "..             ...             ...           ...            ...   \n",
       "795          0.577            11.0         1.221            4.0   \n",
       "796          1.528            15.0         0.766            2.0   \n",
       "797          1.528            15.0         0.766            3.0   \n",
       "798          1.291             9.0         0.647            1.0   \n",
       "799          0.577            19.0         1.034            4.0   \n",
       "\n",
       "     cum_demand_max  distance_max  num_nodes_max  data_id  size  \n",
       "0              50.0         1.898           11.0        0   100  \n",
       "1              50.0         2.466           13.0        0   100  \n",
       "2              50.0         2.085           14.0        1   100  \n",
       "3              50.0         2.473           14.0        1   100  \n",
       "4              50.0         1.955           12.0        2   100  \n",
       "..              ...           ...            ...      ...   ...  \n",
       "795            17.0         1.568            5.0       97    10  \n",
       "796            17.0         1.937            5.0       98    10  \n",
       "797            17.0         1.937            6.0       98    10  \n",
       "798            18.0         2.282            4.0       99    10  \n",
       "799            20.0         1.939            5.0       99    10  \n",
       "\n",
       "[800 rows x 18 columns]"
      ]
     },
     "execution_count": 19,
     "metadata": {},
     "output_type": "execute_result"
    }
   ],
   "source": [
    "results"
   ]
  },
  {
   "cell_type": "markdown",
   "metadata": {},
   "source": [
    "_results_ have 800 rows: 100 (problem instaces random generated) * 4 (problem sizes tested) * 2 records per problem instance, 1 for the result of the RL and other for OR-Tools."
   ]
  },
  {
   "cell_type": "markdown",
   "metadata": {},
   "source": [
    "## RL vs OR-Tools"
   ]
  },
  {
   "cell_type": "markdown",
   "metadata": {},
   "source": [
    "Lets process the results data, in order to compare how many times the RL approach outperforms the OR-Tools. RL wins when the the total length of the solution is smaller than the solution provided by OR-Tools."
   ]
  },
  {
   "cell_type": "code",
   "execution_count": 20,
   "metadata": {},
   "outputs": [],
   "source": [
    "df_analysis = pd.DataFrame()\n",
    "for _, s in enumerate(size):\n",
    "    df = results[results['size'] == s]\n",
    "    \n",
    "    rl_wins = 0\n",
    "    or_wins = 0\n",
    "    for i in range(100):\n",
    "        i_results = df[df['data_id']==i]\n",
    "        rl_distance = i_results[i_results['model']=='RL'].distance.values\n",
    "        or_distance = i_results[i_results['model']=='OR-Tools'].distance.values\n",
    "        if rl_distance < or_distance:\n",
    "            rl_wins += 1\n",
    "        else: or_wins += 1\n",
    "    r = {'size':s,'algorithm': 'RL','score':rl_wins}\n",
    "    df_analysis = df_analysis.append(r, ignore_index = True)\n",
    "    r = {'size':s,'algorithm': 'OR-Tools','score':or_wins}\n",
    "    df_analysis = df_analysis.append(r, ignore_index = True)"
   ]
  },
  {
   "cell_type": "markdown",
   "metadata": {},
   "source": [
    "Plot "
   ]
  },
  {
   "cell_type": "code",
   "execution_count": 21,
   "metadata": {},
   "outputs": [
    {
     "data": {
      "text/plain": [
       "Text(0.5, 1, 'RL vs OR-Tools')"
      ]
     },
     "execution_count": 21,
     "metadata": {},
     "output_type": "execute_result"
    },
    {
     "data": {
      "image/png": "[encoded data removed]",
      "text/plain": [
       "<Figure size 440.359x360 with 1 Axes>"
      ]
     },
     "metadata": {
      "needs_background": "light"
     },
     "output_type": "display_data"
    }
   ],
   "source": [
    "g = sns.catplot(x='size', y = 'score',hue='algorithm', kind='bar', data =df_analysis)\n",
    "g.set_xlabels('Problem size')\n",
    "g.set_ylabels(\"Wins\")\n",
    "g.despine(left=True)\n",
    "plt.title('RL vs OR-Tools')"
   ]
  },
  {
   "cell_type": "markdown",
   "metadata": {},
   "source": [
    "As the problem size increases the RL model outperforms the OR-Tools."
   ]
  },
  {
   "cell_type": "markdown",
   "metadata": {},
   "source": [
    "## Analyse perfomance in problems of size 100"
   ]
  },
  {
   "cell_type": "markdown",
   "metadata": {},
   "source": [
    "Get just the results about problem size = 100"
   ]
  },
  {
   "cell_type": "code",
   "execution_count": 22,
   "metadata": {},
   "outputs": [
    {
     "data": {
      "text/html": [
       "<div>\n",
       "<style scoped>\n",
       "    .dataframe tbody tr th:only-of-type {\n",
       "        vertical-align: middle;\n",
       "    }\n",
       "\n",
       "    .dataframe tbody tr th {\n",
       "        vertical-align: top;\n",
       "    }\n",
       "\n",
       "    .dataframe thead th {\n",
       "        text-align: right;\n",
       "    }\n",
       "</style>\n",
       "<table border=\"1\" class=\"dataframe\">\n",
       "  <thead>\n",
       "    <tr style=\"text-align: right;\">\n",
       "      <th></th>\n",
       "      <th>Unnamed: 0</th>\n",
       "      <th>model</th>\n",
       "      <th>time</th>\n",
       "      <th>distance</th>\n",
       "      <th>cum_demand_mean</th>\n",
       "      <th>distance_mean</th>\n",
       "      <th>num_nodes_mean</th>\n",
       "      <th>cum_demand_std</th>\n",
       "      <th>distance_std</th>\n",
       "      <th>num_nodes_std</th>\n",
       "      <th>cum_demand_min</th>\n",
       "      <th>distance_min</th>\n",
       "      <th>num_nodes_min</th>\n",
       "      <th>cum_demand_max</th>\n",
       "      <th>distance_max</th>\n",
       "      <th>num_nodes_max</th>\n",
       "      <th>data_id</th>\n",
       "      <th>size</th>\n",
       "    </tr>\n",
       "  </thead>\n",
       "  <tbody>\n",
       "    <tr>\n",
       "      <th>0</th>\n",
       "      <td>0</td>\n",
       "      <td>RL</td>\n",
       "      <td>0.160965</td>\n",
       "      <td>14.529257</td>\n",
       "      <td>45.545</td>\n",
       "      <td>1.321</td>\n",
       "      <td>9.091</td>\n",
       "      <td>5.803</td>\n",
       "      <td>0.326</td>\n",
       "      <td>1.640</td>\n",
       "      <td>29.0</td>\n",
       "      <td>0.750</td>\n",
       "      <td>5.0</td>\n",
       "      <td>50.0</td>\n",
       "      <td>1.898</td>\n",
       "      <td>11.0</td>\n",
       "      <td>0</td>\n",
       "      <td>100</td>\n",
       "    </tr>\n",
       "    <tr>\n",
       "      <th>1</th>\n",
       "      <td>1</td>\n",
       "      <td>OR-Tools</td>\n",
       "      <td>0.648113</td>\n",
       "      <td>15.762056</td>\n",
       "      <td>45.545</td>\n",
       "      <td>1.433</td>\n",
       "      <td>10.091</td>\n",
       "      <td>5.888</td>\n",
       "      <td>0.519</td>\n",
       "      <td>1.814</td>\n",
       "      <td>30.0</td>\n",
       "      <td>0.631</td>\n",
       "      <td>7.0</td>\n",
       "      <td>50.0</td>\n",
       "      <td>2.466</td>\n",
       "      <td>13.0</td>\n",
       "      <td>0</td>\n",
       "      <td>100</td>\n",
       "    </tr>\n",
       "    <tr>\n",
       "      <th>2</th>\n",
       "      <td>2</td>\n",
       "      <td>RL</td>\n",
       "      <td>0.180480</td>\n",
       "      <td>15.830186</td>\n",
       "      <td>45.182</td>\n",
       "      <td>1.439</td>\n",
       "      <td>9.091</td>\n",
       "      <td>10.088</td>\n",
       "      <td>0.476</td>\n",
       "      <td>3.300</td>\n",
       "      <td>16.0</td>\n",
       "      <td>0.303</td>\n",
       "      <td>2.0</td>\n",
       "      <td>50.0</td>\n",
       "      <td>2.085</td>\n",
       "      <td>14.0</td>\n",
       "      <td>1</td>\n",
       "      <td>100</td>\n",
       "    </tr>\n",
       "    <tr>\n",
       "      <th>3</th>\n",
       "      <td>3</td>\n",
       "      <td>OR-Tools</td>\n",
       "      <td>0.442898</td>\n",
       "      <td>16.988679</td>\n",
       "      <td>49.700</td>\n",
       "      <td>1.699</td>\n",
       "      <td>11.000</td>\n",
       "      <td>0.675</td>\n",
       "      <td>0.447</td>\n",
       "      <td>1.563</td>\n",
       "      <td>48.0</td>\n",
       "      <td>1.186</td>\n",
       "      <td>9.0</td>\n",
       "      <td>50.0</td>\n",
       "      <td>2.473</td>\n",
       "      <td>14.0</td>\n",
       "      <td>1</td>\n",
       "      <td>100</td>\n",
       "    </tr>\n",
       "    <tr>\n",
       "      <th>4</th>\n",
       "      <td>4</td>\n",
       "      <td>RL</td>\n",
       "      <td>0.187001</td>\n",
       "      <td>13.476508</td>\n",
       "      <td>44.909</td>\n",
       "      <td>1.225</td>\n",
       "      <td>9.091</td>\n",
       "      <td>6.818</td>\n",
       "      <td>0.330</td>\n",
       "      <td>2.119</td>\n",
       "      <td>27.0</td>\n",
       "      <td>0.732</td>\n",
       "      <td>5.0</td>\n",
       "      <td>50.0</td>\n",
       "      <td>1.955</td>\n",
       "      <td>12.0</td>\n",
       "      <td>2</td>\n",
       "      <td>100</td>\n",
       "    </tr>\n",
       "  </tbody>\n",
       "</table>\n",
       "</div>"
      ],
      "text/plain": [
       "   Unnamed: 0     model      time   distance  cum_demand_mean  distance_mean  \\\n",
       "0           0        RL  0.160965  14.529257           45.545          1.321   \n",
       "1           1  OR-Tools  0.648113  15.762056           45.545          1.433   \n",
       "2           2        RL  0.180480  15.830186           45.182          1.439   \n",
       "3           3  OR-Tools  0.442898  16.988679           49.700          1.699   \n",
       "4           4        RL  0.187001  13.476508           44.909          1.225   \n",
       "\n",
       "   num_nodes_mean  cum_demand_std  distance_std  num_nodes_std  \\\n",
       "0           9.091           5.803         0.326          1.640   \n",
       "1          10.091           5.888         0.519          1.814   \n",
       "2           9.091          10.088         0.476          3.300   \n",
       "3          11.000           0.675         0.447          1.563   \n",
       "4           9.091           6.818         0.330          2.119   \n",
       "\n",
       "   cum_demand_min  distance_min  num_nodes_min  cum_demand_max  distance_max  \\\n",
       "0            29.0         0.750            5.0            50.0         1.898   \n",
       "1            30.0         0.631            7.0            50.0         2.466   \n",
       "2            16.0         0.303            2.0            50.0         2.085   \n",
       "3            48.0         1.186            9.0            50.0         2.473   \n",
       "4            27.0         0.732            5.0            50.0         1.955   \n",
       "\n",
       "   num_nodes_max  data_id  size  \n",
       "0           11.0        0   100  \n",
       "1           13.0        0   100  \n",
       "2           14.0        1   100  \n",
       "3           14.0        1   100  \n",
       "4           12.0        2   100  "
      ]
     },
     "execution_count": 22,
     "metadata": {},
     "output_type": "execute_result"
    }
   ],
   "source": [
    "results_100 = results[results['size'] == 100]\n",
    "results_100.head()"
   ]
  },
  {
   "cell_type": "code",
   "execution_count": 23,
   "metadata": {},
   "outputs": [
    {
     "data": {
      "text/plain": [
       "(16.960783094502986, 17.480571491)"
      ]
     },
     "execution_count": 23,
     "metadata": {},
     "output_type": "execute_result"
    }
   ],
   "source": [
    "results_100[results_100['model']=='RL'].distance.mean(), results_100[results_100['model']=='OR-Tools'].distance.mean()"
   ]
  },
  {
   "cell_type": "code",
   "execution_count": 24,
   "metadata": {},
   "outputs": [
    {
     "data": {
      "text/plain": [
       "<matplotlib.axes._subplots.AxesSubplot at 0x24de2845ec8>"
      ]
     },
     "execution_count": 24,
     "metadata": {},
     "output_type": "execute_result"
    },
    {
     "data": {
      "image/png": "[encoded data removed]",
      "text/plain": [
       "<Figure size 432x288 with 1 Axes>"
      ]
     },
     "metadata": {
      "needs_background": "light"
     },
     "output_type": "display_data"
    }
   ],
   "source": [
    "sns.boxplot(y= 'distance',x='model',data = results_100)"
   ]
  },
  {
   "cell_type": "markdown",
   "metadata": {},
   "source": [
    "We can see in the boxplot above that the mean distance of the solutions of RL are smaller than the ones provided by the OR-Tools (16.96 vs 17.48)"
   ]
  },
  {
   "cell_type": "code",
   "execution_count": 25,
   "metadata": {},
   "outputs": [
    {
     "data": {
      "text/plain": [
       "<matplotlib.axes._subplots.AxesSubplot at 0x24de2898b88>"
      ]
     },
     "execution_count": 25,
     "metadata": {},
     "output_type": "execute_result"
    },
    {
     "data": {
      "image/png": "[encoded data removed]",
      "text/plain": [
       "<Figure size 432x288 with 1 Axes>"
      ]
     },
     "metadata": {
      "needs_background": "light"
     },
     "output_type": "display_data"
    }
   ],
   "source": [
    "sns.boxplot(y= 'distance_mean',x='model',data = results_100)"
   ]
  },
  {
   "cell_type": "markdown",
   "metadata": {},
   "source": [
    "The RL tends to create smaller routes for each vehicle, compared to OR-Tools."
   ]
  },
  {
   "cell_type": "code",
   "execution_count": 26,
   "metadata": {},
   "outputs": [
    {
     "data": {
      "text/plain": [
       "<matplotlib.axes._subplots.AxesSubplot at 0x24de290f5c8>"
      ]
     },
     "execution_count": 26,
     "metadata": {},
     "output_type": "execute_result"
    },
    {
     "data": {
      "image/png": "[encoded data removed]",
      "text/plain": [
       "<Figure size 432x288 with 1 Axes>"
      ]
     },
     "metadata": {
      "needs_background": "light"
     },
     "output_type": "display_data"
    }
   ],
   "source": [
    "sns.boxplot(y= 'time',x='model',data = results_100)"
   ]
  },
  {
   "cell_type": "markdown",
   "metadata": {},
   "source": [
    "The RL approach is much more faster in solving the problem."
   ]
  },
  {
   "cell_type": "markdown",
   "metadata": {},
   "source": [
    "## Test generability"
   ]
  },
  {
   "cell_type": "markdown",
   "metadata": {},
   "source": [
    "In this section I will load the RL pretrained model with 100 nodes, and test it with different problem sizes."
   ]
  },
  {
   "cell_type": "code",
   "execution_count": 27,
   "metadata": {},
   "outputs": [
    {
     "data": {
      "text/plain": [
       "array([ 70,  80,  90, 110, 120, 130])"
      ]
     },
     "execution_count": 27,
     "metadata": {},
     "output_type": "execute_result"
    }
   ],
   "source": [
    "num_samples = 100\n",
    "start_size = 100\n",
    "sizes = np.arange(start_size - (10*3),start_size + (10*4), 10)\n",
    "sizes = sizes[sizes != start_size]\n",
    "sizes"
   ]
  },
  {
   "cell_type": "markdown",
   "metadata": {},
   "source": [
    "The RL model will be test with 100 random problem instances, for each size. As done before, each problem solution sampled will be solved  both by the RL method and the OR-Tools, in order to compare the results."
   ]
  },
  {
   "cell_type": "markdown",
   "metadata": {},
   "source": [
    "Now lets run this experiment, or load the results from folder."
   ]
  },
  {
   "cell_type": "code",
   "execution_count": 28,
   "metadata": {},
   "outputs": [
    {
     "name": "stdout",
     "output_type": "stream",
     "text": [
      "Wall time: 18.5 ms\n"
     ]
    }
   ],
   "source": [
    "%%time\n",
    "results2 = []\n",
    "if not path.exists('results/results2.csv'):\n",
    "    for _, s in enumerate(sizes):\n",
    "        print('size: {}'.format(s))\n",
    "        random_data2 = generate_data(s, num_samples, CAPACITIES[100])\n",
    "        results_i = []\n",
    "        for i, d in enumerate(random_data2):  \n",
    "            #RL\n",
    "            data_rl = []\n",
    "            data_rl.append(d)\n",
    "            model1 = rf1(100, data_rl, CAPACITIES[100])\n",
    "            df_rf1_solution, time  = model1.run()\n",
    "            m_rl = extract_metrics('RL',time,df_rf1_solution)\n",
    "            m_rl['data_id'] = i\n",
    "            m_rl['size'] = s\n",
    "            results_i.append(m_rl)\n",
    "\n",
    "            #OR-Tools\n",
    "            #print('\\t OR-Tools')\n",
    "            depot, nodes, demands,vehicle_capacities, num_vehicles = preprocess_ortools(int(CAPACITIES[100]),d)\n",
    "            or_cvrp_solver = cvrp_ortools_solver(nodes,num_vehicles,demands,vehicle_capacities)\n",
    "            df_or_solution, timeor = or_cvrp_solver.run()\n",
    "            m_or = extract_metrics('OR-Tools',timeor,df_or_solution)\n",
    "            m_or['data_id'] = i\n",
    "            m_or['size'] = s\n",
    "            results_i.append(m_or)\n",
    "\n",
    "        results2.append(pd.DataFrame(results_i))\n",
    "    results2 = pd.concat(results2)\n",
    "    results2.to_csv('results/results2.csv',sep=';')\n",
    "else: results2 = pd.read_csv('results/results2.csv',sep=';')"
   ]
  },
  {
   "cell_type": "markdown",
   "metadata": {},
   "source": [
    "Process wins"
   ]
  },
  {
   "cell_type": "code",
   "execution_count": 29,
   "metadata": {},
   "outputs": [],
   "source": [
    "df_analysis2 = pd.DataFrame()\n",
    "for _, s in enumerate(sizes):\n",
    "    df = results2[results2['size'] == s]\n",
    "    \n",
    "    rl_wins = 0\n",
    "    or_wins = 0\n",
    "    for i in range(100):\n",
    "        i_results = df[df['data_id']==i]\n",
    "        rl_distance = i_results[i_results['model']=='RL'].distance.values\n",
    "        or_distance = i_results[i_results['model']=='OR-Tools'].distance.values\n",
    "        if rl_distance < or_distance:\n",
    "            rl_wins += 1\n",
    "        else: or_wins += 1\n",
    "    r = {'size':s,'algorithm': 'RL','score':rl_wins}\n",
    "    df_analysis2 = df_analysis2.append(r, ignore_index = True)\n",
    "    r = {'size':s,'algorithm': 'OR-Tools','score':or_wins}\n",
    "    df_analysis2 = df_analysis2.append(r, ignore_index = True)"
   ]
  },
  {
   "cell_type": "markdown",
   "metadata": {},
   "source": [
    "Plot results"
   ]
  },
  {
   "cell_type": "code",
   "execution_count": 30,
   "metadata": {},
   "outputs": [
    {
     "data": {
      "text/plain": [
       "Text(0.5, 1, 'RL (100) C = 50 vs OR-Tools')"
      ]
     },
     "execution_count": 30,
     "metadata": {},
     "output_type": "execute_result"
    },
    {
     "data": {
      "image/png": "[encoded data removed]",
      "text/plain": [
       "<Figure size 440.359x360 with 1 Axes>"
      ]
     },
     "metadata": {
      "needs_background": "light"
     },
     "output_type": "display_data"
    }
   ],
   "source": [
    "g = sns.catplot(x='size', y = 'score',hue='algorithm', kind='bar', data =df_analysis2)\n",
    "g.set_xlabels('Problem size')\n",
    "g.set_ylabels(\"Wins\")\n",
    "g.despine(left=True)\n",
    "plt.title('RL (100) C = 50 vs OR-Tools')"
   ]
  },
  {
   "cell_type": "markdown",
   "metadata": {},
   "source": [
    "We can see that the model generalizes well. A model trained with 100 nodes still gets better results,  in  general,  in  problems  of  size  130  compared  to  the  OR-Tools.  As  the  problem  size decreases, the OR-Tools start to get closer results to the RL. This was expected because we saw above that the OR-Tools outperforms the RL framework in smaller problem sizes."
   ]
  },
  {
   "cell_type": "markdown",
   "metadata": {},
   "source": [
    "# References"
   ]
  },
  {
   "cell_type": "markdown",
   "metadata": {},
   "source": [
    "[1] https://developers.google.com/optimization\n",
    "\n",
    "[2] https://github.com/wouterkool/attention-learn-to-route\n",
    "    \n",
    "[3]  Kool, W., Hoof, H.V., & Welling, M. (2019). Attention, Learn to Solve Routing Problems! ICLR."
   ]
  }
 ],
 "metadata": {
  "kernelspec": {
   "display_name": "Python 3",
   "language": "python",
   "name": "python3"
  },
  "language_info": {
   "codemirror_mode": {
    "name": "ipython",
    "version": 3
   },
   "file_extension": ".py",
   "mimetype": "text/x-python",
   "name": "python",
   "nbconvert_exporter": "python",
   "pygments_lexer": "ipython3",
   "version": "3.7.6"
  }
 },
 "nbformat": 4,
 "nbformat_minor": 4
}
